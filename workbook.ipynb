{
 "cells": [
  {
   "cell_type": "code",
   "execution_count": 16,
   "metadata": {},
   "outputs": [
    {
     "name": "stdout",
     "output_type": "stream",
     "text": [
      "0\n",
      "-1 -1\n"
     ]
    }
   ],
   "source": [
    "width, height = 9, 9\n",
    "\n",
    "matrix = []\n",
    "max = 0\n",
    "x, y = -1, -1\n",
    "\n",
    "for row in range(height):\n",
    "    dummy = input().split()\n",
    "    matrix.append(dummy)\n",
    "\n",
    "for i in range(len(matrix)) :\n",
    "    for j in range(len(matrix[i])) :\n",
    "        if max <= int(matrix[i][j]) :\n",
    "            max = int(matrix[i][j])\n",
    "            x, y = i + 1, j + 1\n",
    "            \n",
    "print(max)\n",
    "print(f'{x} {y}')"
   ]
  },
  {
   "cell_type": "code",
   "execution_count": 7,
   "metadata": {},
   "outputs": [
    {
     "name": "stdout",
     "output_type": "stream",
     "text": [
      "1\n",
      "2\n",
      "3\n",
      "4\n",
      "5\n",
      "6\n",
      "7\n",
      "8\n",
      "9\n"
     ]
    }
   ],
   "source": [
    "matrix = [[1, 2, 3, 4, 5, 6, 7, 8, 9],\n",
    "          [1, 2, 3, 4, 5, 6, 7, 8, 9],\n",
    "          [1, 2, 3, 4, 5, 6, 7, 8, 9],\n",
    "          [1, 2, 3, 4, 5, 6, 7, 8, 9],\n",
    "          [1, 2, 3, 4, 5, 6, 7, 8, 9],\n",
    "          [1, 2, 3, 4, 5, 6, 7, 8, 9],\n",
    "          [1, 2, 3, 4, 5, 6, 7, 8, 9],\n",
    "          [1, 2, 3, 4, 5, 6, 7, 8, 9],\n",
    "          [1, 2, 3, 4, 5, 6, 7, 8, 9],\n",
    "          ]\n",
    "a = [1, 2, 3, 4, 5, 6, 7, 8, 9]\n",
    "\n",
    "for i in matrix[0] :\n",
    "    print(i)"
   ]
  }
 ],
 "metadata": {
  "kernelspec": {
   "display_name": "SD",
   "language": "python",
   "name": "sd"
  },
  "language_info": {
   "codemirror_mode": {
    "name": "ipython",
    "version": 3
   },
   "file_extension": ".py",
   "mimetype": "text/x-python",
   "name": "python",
   "nbconvert_exporter": "python",
   "pygments_lexer": "ipython3",
   "version": "3.7.0"
  },
  "orig_nbformat": 4
 },
 "nbformat": 4,
 "nbformat_minor": 2
}
